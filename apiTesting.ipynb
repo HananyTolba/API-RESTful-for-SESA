{
 "cells": [
  {
   "cell_type": "code",
   "execution_count": 10,
   "id": "34f50de3",
   "metadata": {},
   "outputs": [],
   "source": [
    "import json\n",
    "import requests\n",
    "import pandas as pd\n",
    "import time"
   ]
  },
  {
   "cell_type": "code",
   "execution_count": 11,
   "id": "01d9744b",
   "metadata": {},
   "outputs": [],
   "source": [
    "url = 'http://127.0.0.1:8008/predict'"
   ]
  },
  {
   "cell_type": "code",
   "execution_count": 15,
   "id": "f7b05db4",
   "metadata": {},
   "outputs": [],
   "source": [
    "Request_body = {\n",
    "  \"company\": \"demo\",\n",
    "  \"horizon\": \"5s\",\n",
    "  \"frequency\": \"5s\"\n",
    "}\n"
   ]
  },
  {
   "cell_type": "code",
   "execution_count": null,
   "id": "03ba576a",
   "metadata": {},
   "outputs": [],
   "source": []
  },
  {
   "cell_type": "code",
   "execution_count": 18,
   "id": "b1ab380d",
   "metadata": {},
   "outputs": [
    {
     "name": "stdout",
     "output_type": "stream",
     "text": [
      "                     Prediction  Upper bound 95%  Lower bound 95%\n",
      "11/12/2021 11:06:08  418.348029       419.685763       417.010295\n",
      "                     Prediction  Upper bound 95%  Lower bound 95%\n",
      "11/12/2021 11:06:38  440.980342       442.312324        439.64836\n",
      "                     Prediction  Upper bound 95%  Lower bound 95%\n",
      "11/12/2021 11:07:08  473.350581       474.674208       472.026954\n",
      "                     Prediction  Upper bound 95%  Lower bound 95%\n",
      "11/12/2021 11:07:38  510.852687       512.175464        509.52991\n",
      "                     Prediction  Upper bound 95%  Lower bound 95%\n",
      "11/12/2021 11:08:08  547.844409       549.164389       546.524429\n",
      "                     Prediction  Upper bound 95%  Lower bound 95%\n",
      "11/12/2021 11:08:38  578.407875       579.725624       577.090126\n",
      "                     Prediction  Upper bound 95%  Lower bound 95%\n",
      "11/12/2021 11:09:08  597.467775       598.785308       596.150241\n",
      "                     Prediction  Upper bound 95%  Lower bound 95%\n",
      "11/12/2021 11:09:38  601.952131       603.268466       600.635796\n",
      "                     Prediction  Upper bound 95%  Lower bound 95%\n",
      "11/12/2021 11:10:08  591.498722       592.814495       590.182948\n",
      "                     Prediction  Upper bound 95%  Lower bound 95%\n",
      "11/12/2021 11:10:38  568.360851       569.676498       567.045204\n",
      "                     Prediction  Upper bound 95%  Lower bound 95%\n",
      "11/12/2021 11:11:08  536.689424       538.004604       535.374245\n",
      "                     Prediction  Upper bound 95%  Lower bound 95%\n",
      "11/12/2021 11:11:38  501.617638       502.932692       500.302583\n",
      "                     Prediction  Upper bound 95%  Lower bound 95%\n",
      "11/12/2021 11:12:08  468.339112       469.654083       467.024141\n",
      "                     Prediction  Upper bound 95%  Lower bound 95%\n",
      "11/12/2021 11:12:38  441.517513       442.832318       440.202708\n",
      "                     Prediction  Upper bound 95%  Lower bound 95%\n",
      "11/12/2021 11:13:08  424.705014       426.019795       423.390233\n",
      "                     Prediction  Upper bound 95%  Lower bound 95%\n",
      "11/12/2021 11:13:38  419.834388       421.149122       418.519654\n",
      "                     Prediction  Upper bound 95%  Lower bound 95%\n",
      "11/12/2021 11:14:09  426.809305       428.123986       425.494624\n",
      "                     Prediction  Upper bound 95%  Lower bound 95%\n",
      "11/12/2021 11:14:39  443.544864        444.85954       442.230188\n",
      "                     Prediction  Upper bound 95%  Lower bound 95%\n",
      "11/12/2021 11:15:09  466.462514       467.777167       465.147861\n",
      "                     Prediction  Upper bound 95%  Lower bound 95%\n",
      "11/12/2021 11:15:39   491.35803       492.672668       490.043392\n",
      "                     Prediction  Upper bound 95%  Lower bound 95%\n",
      "11/12/2021 11:16:09  514.449866       515.764502        513.13523\n",
      "                     Prediction  Upper bound 95%  Lower bound 95%\n",
      "11/12/2021 11:16:39  531.884304        533.19893       530.569678\n",
      "                     Prediction  Upper bound 95%  Lower bound 95%\n",
      "11/12/2021 11:17:09  541.960779       543.275402       540.646157\n"
     ]
    }
   ],
   "source": [
    "while True:\n",
    "    try:\n",
    "        response = requests.post(url, data = json.dumps(Request_body))\n",
    "        response_dict = json.loads(response.text)\n",
    "        result = pd.DataFrame.from_dict(response_dict[\"forecast\"], orient='index')\n",
    "        print(result)\n",
    "        time.sleep(30)\n",
    "    except KeyboardInterrupt:\n",
    "        break\n",
    "    "
   ]
  },
  {
   "cell_type": "code",
   "execution_count": null,
   "id": "07b78128",
   "metadata": {},
   "outputs": [],
   "source": []
  },
  {
   "cell_type": "code",
   "execution_count": null,
   "id": "ba9a017d",
   "metadata": {},
   "outputs": [],
   "source": []
  },
  {
   "cell_type": "code",
   "execution_count": null,
   "id": "200a67a1",
   "metadata": {},
   "outputs": [],
   "source": []
  },
  {
   "cell_type": "code",
   "execution_count": null,
   "id": "4642c47a",
   "metadata": {},
   "outputs": [],
   "source": []
  },
  {
   "cell_type": "code",
   "execution_count": null,
   "id": "b7cffd1c",
   "metadata": {},
   "outputs": [],
   "source": []
  },
  {
   "cell_type": "code",
   "execution_count": null,
   "id": "e64f6a25",
   "metadata": {},
   "outputs": [],
   "source": []
  },
  {
   "cell_type": "code",
   "execution_count": null,
   "id": "06bff806",
   "metadata": {},
   "outputs": [],
   "source": []
  },
  {
   "cell_type": "code",
   "execution_count": null,
   "id": "77c3c697",
   "metadata": {},
   "outputs": [],
   "source": []
  },
  {
   "cell_type": "code",
   "execution_count": null,
   "id": "f42b1a3f",
   "metadata": {},
   "outputs": [],
   "source": []
  },
  {
   "cell_type": "code",
   "execution_count": null,
   "id": "77136b21",
   "metadata": {},
   "outputs": [],
   "source": []
  },
  {
   "cell_type": "code",
   "execution_count": null,
   "id": "d83b7e10",
   "metadata": {},
   "outputs": [],
   "source": []
  },
  {
   "cell_type": "code",
   "execution_count": 95,
   "id": "8cfcd91a",
   "metadata": {},
   "outputs": [
    {
     "data": {
      "text/plain": [
       "<AxesSubplot:>"
      ]
     },
     "execution_count": 95,
     "metadata": {},
     "output_type": "execute_result"
    },
    {
     "data": {
      "image/png": "[encoded data removed]",
      "text/plain": [
       "<Figure size 864x360 with 1 Axes>"
      ]
     },
     "metadata": {
      "needs_background": "light"
     },
     "output_type": "display_data"
    }
   ],
   "source": [
    "result = pd.DataFrame.from_dict(response_dict[\"forecast\"], orient='index')\n",
    "result.index = result.index.map(pd.to_datetime)\n",
    "result.plot(figsize = (12,5))"
   ]
  },
  {
   "cell_type": "code",
   "execution_count": null,
   "id": "ae2a7412",
   "metadata": {},
   "outputs": [],
   "source": []
  }
 ],
 "metadata": {
  "kernelspec": {
   "display_name": "Python 3 (ipykernel)",
   "language": "python",
   "name": "python3"
  },
  "language_info": {
   "codemirror_mode": {
    "name": "ipython",
    "version": 3
   },
   "file_extension": ".py",
   "mimetype": "text/x-python",
   "name": "python",
   "nbconvert_exporter": "python",
   "pygments_lexer": "ipython3",
   "version": "3.8.0"
  }
 },
 "nbformat": 4,
 "nbformat_minor": 5
}
