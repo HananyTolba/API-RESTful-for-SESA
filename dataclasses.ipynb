{
 "cells": [
  {
   "cell_type": "code",
   "execution_count": 121,
   "id": "09bb6344",
   "metadata": {},
   "outputs": [],
   "source": [
    "from dataclasses import dataclass, field\n",
    "import datetime\n",
    "@dataclass(order = True)\n",
    "class InventoryItem:\n",
    "    \"\"\"Class for keeping track of an item in inventory.\"\"\"\n",
    "    sort_label: int =field(init = False, repr=False)\n",
    "    name: str\n",
    "    unit_price: float \n",
    "    quantity_on_hand: int = 0\n",
    "    # date: datetime = datetime.datetime.today().strftime(format = '%Y-%m-%d')\n",
    "\n",
    "    def __post_init__(self):\n",
    "        self.sort_label = self.unit_price\n",
    "\n",
    "\n",
    "    def total_cost(self) -> float:\n",
    "        return self.unit_price * self.quantity_on_hand"
   ]
  },
  {
   "cell_type": "code",
   "execution_count": 122,
   "id": "39009257",
   "metadata": {},
   "outputs": [],
   "source": [
    "i1 = InventoryItem(name = 'user',unit_price = 3.041, quantity_on_hand = 120)\n",
    "i2 = InventoryItem(name = 'user',unit_price = 3.041, quantity_on_hand = 120)\n",
    "i3 = InventoryItem(name = 'user',unit_price = 3.041, quantity_on_hand = 15)"
   ]
  },
  {
   "cell_type": "code",
   "execution_count": 123,
   "id": "0c0a17d8",
   "metadata": {},
   "outputs": [
    {
     "data": {
      "text/plain": [
       "(True, 2429344148832, 2429344146384)"
      ]
     },
     "execution_count": 123,
     "metadata": {},
     "output_type": "execute_result"
    }
   ],
   "source": [
    "i1 == i2, id(i1), id(i2)"
   ]
  },
  {
   "cell_type": "code",
   "execution_count": 125,
   "id": "6fe7e943",
   "metadata": {},
   "outputs": [
    {
     "data": {
      "text/plain": [
       "False"
      ]
     },
     "execution_count": 125,
     "metadata": {},
     "output_type": "execute_result"
    }
   ],
   "source": [
    "i3 > i1"
   ]
  },
  {
   "cell_type": "code",
   "execution_count": null,
   "id": "c525822f",
   "metadata": {},
   "outputs": [],
   "source": []
  }
 ],
 "metadata": {
  "kernelspec": {
   "display_name": "Python 3 (ipykernel)",
   "language": "python",
   "name": "python3"
  },
  "language_info": {
   "codemirror_mode": {
    "name": "ipython",
    "version": 3
   },
   "file_extension": ".py",
   "mimetype": "text/x-python",
   "name": "python",
   "nbconvert_exporter": "python",
   "pygments_lexer": "ipython3",
   "version": "3.8.0"
  }
 },
 "nbformat": 4,
 "nbformat_minor": 5
}
