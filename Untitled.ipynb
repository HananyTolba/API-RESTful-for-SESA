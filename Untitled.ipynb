{
 "cells": [
  {
   "cell_type": "code",
   "execution_count": 1,
   "id": "d89591da",
   "metadata": {},
   "outputs": [],
   "source": [
    "import fastapi"
   ]
  },
  {
   "cell_type": "code",
   "execution_count": 2,
   "id": "050a25b9",
   "metadata": {},
   "outputs": [
    {
     "data": {
      "text/plain": [
       "['APIRouter',\n",
       " 'BackgroundTasks',\n",
       " 'Body',\n",
       " 'Cookie',\n",
       " 'Depends',\n",
       " 'FastAPI',\n",
       " 'File',\n",
       " 'Form',\n",
       " 'HTTPException',\n",
       " 'Header',\n",
       " 'Path',\n",
       " 'Query',\n",
       " 'Request',\n",
       " 'Response',\n",
       " 'Security',\n",
       " 'UploadFile',\n",
       " 'WebSocket',\n",
       " 'WebSocketDisconnect',\n",
       " '__builtins__',\n",
       " '__cached__',\n",
       " '__doc__',\n",
       " '__file__',\n",
       " '__loader__',\n",
       " '__name__',\n",
       " '__package__',\n",
       " '__path__',\n",
       " '__spec__',\n",
       " '__version__',\n",
       " 'applications',\n",
       " 'background',\n",
       " 'concurrency',\n",
       " 'datastructures',\n",
       " 'dependencies',\n",
       " 'encoders',\n",
       " 'exception_handlers',\n",
       " 'exceptions',\n",
       " 'logger',\n",
       " 'openapi',\n",
       " 'param_functions',\n",
       " 'params',\n",
       " 'requests',\n",
       " 'responses',\n",
       " 'routing',\n",
       " 'security',\n",
       " 'status',\n",
       " 'types',\n",
       " 'utils',\n",
       " 'websockets']"
      ]
     },
     "execution_count": 2,
     "metadata": {},
     "output_type": "execute_result"
    }
   ],
   "source": [
    "dir(fastapi)"
   ]
  },
  {
   "cell_type": "code",
   "execution_count": 6,
   "id": "7db88007",
   "metadata": {},
   "outputs": [],
   "source": [
    "from fastapi import status"
   ]
  },
  {
   "cell_type": "code",
   "execution_count": 7,
   "id": "11c39950",
   "metadata": {},
   "outputs": [
    {
     "data": {
      "text/plain": [
       "['HTTP_100_CONTINUE',\n",
       " 'HTTP_101_SWITCHING_PROTOCOLS',\n",
       " 'HTTP_102_PROCESSING',\n",
       " 'HTTP_103_EARLY_HINTS',\n",
       " 'HTTP_200_OK',\n",
       " 'HTTP_201_CREATED',\n",
       " 'HTTP_202_ACCEPTED',\n",
       " 'HTTP_203_NON_AUTHORITATIVE_INFORMATION',\n",
       " 'HTTP_204_NO_CONTENT',\n",
       " 'HTTP_205_RESET_CONTENT',\n",
       " 'HTTP_206_PARTIAL_CONTENT',\n",
       " 'HTTP_207_MULTI_STATUS',\n",
       " 'HTTP_208_ALREADY_REPORTED',\n",
       " 'HTTP_226_IM_USED',\n",
       " 'HTTP_300_MULTIPLE_CHOICES',\n",
       " 'HTTP_301_MOVED_PERMANENTLY',\n",
       " 'HTTP_302_FOUND',\n",
       " 'HTTP_303_SEE_OTHER',\n",
       " 'HTTP_304_NOT_MODIFIED',\n",
       " 'HTTP_305_USE_PROXY',\n",
       " 'HTTP_306_RESERVED',\n",
       " 'HTTP_307_TEMPORARY_REDIRECT',\n",
       " 'HTTP_308_PERMANENT_REDIRECT',\n",
       " 'HTTP_400_BAD_REQUEST',\n",
       " 'HTTP_401_UNAUTHORIZED',\n",
       " 'HTTP_402_PAYMENT_REQUIRED',\n",
       " 'HTTP_403_FORBIDDEN',\n",
       " 'HTTP_404_NOT_FOUND',\n",
       " 'HTTP_405_METHOD_NOT_ALLOWED',\n",
       " 'HTTP_406_NOT_ACCEPTABLE',\n",
       " 'HTTP_407_PROXY_AUTHENTICATION_REQUIRED',\n",
       " 'HTTP_408_REQUEST_TIMEOUT',\n",
       " 'HTTP_409_CONFLICT',\n",
       " 'HTTP_410_GONE',\n",
       " 'HTTP_411_LENGTH_REQUIRED',\n",
       " 'HTTP_412_PRECONDITION_FAILED',\n",
       " 'HTTP_413_REQUEST_ENTITY_TOO_LARGE',\n",
       " 'HTTP_414_REQUEST_URI_TOO_LONG',\n",
       " 'HTTP_415_UNSUPPORTED_MEDIA_TYPE',\n",
       " 'HTTP_416_REQUESTED_RANGE_NOT_SATISFIABLE',\n",
       " 'HTTP_417_EXPECTATION_FAILED',\n",
       " 'HTTP_418_IM_A_TEAPOT',\n",
       " 'HTTP_421_MISDIRECTED_REQUEST',\n",
       " 'HTTP_422_UNPROCESSABLE_ENTITY',\n",
       " 'HTTP_423_LOCKED',\n",
       " 'HTTP_424_FAILED_DEPENDENCY',\n",
       " 'HTTP_425_TOO_EARLY',\n",
       " 'HTTP_426_UPGRADE_REQUIRED',\n",
       " 'HTTP_428_PRECONDITION_REQUIRED',\n",
       " 'HTTP_429_TOO_MANY_REQUESTS',\n",
       " 'HTTP_431_REQUEST_HEADER_FIELDS_TOO_LARGE',\n",
       " 'HTTP_451_UNAVAILABLE_FOR_LEGAL_REASONS',\n",
       " 'HTTP_500_INTERNAL_SERVER_ERROR',\n",
       " 'HTTP_501_NOT_IMPLEMENTED',\n",
       " 'HTTP_502_BAD_GATEWAY',\n",
       " 'HTTP_503_SERVICE_UNAVAILABLE',\n",
       " 'HTTP_504_GATEWAY_TIMEOUT',\n",
       " 'HTTP_505_HTTP_VERSION_NOT_SUPPORTED',\n",
       " 'HTTP_506_VARIANT_ALSO_NEGOTIATES',\n",
       " 'HTTP_507_INSUFFICIENT_STORAGE',\n",
       " 'HTTP_508_LOOP_DETECTED',\n",
       " 'HTTP_510_NOT_EXTENDED',\n",
       " 'HTTP_511_NETWORK_AUTHENTICATION_REQUIRED',\n",
       " 'WS_1000_NORMAL_CLOSURE',\n",
       " 'WS_1001_GOING_AWAY',\n",
       " 'WS_1002_PROTOCOL_ERROR',\n",
       " 'WS_1003_UNSUPPORTED_DATA',\n",
       " 'WS_1004_NO_STATUS_RCVD',\n",
       " 'WS_1005_ABNORMAL_CLOSURE',\n",
       " 'WS_1007_INVALID_FRAME_PAYLOAD_DATA',\n",
       " 'WS_1008_POLICY_VIOLATION',\n",
       " 'WS_1009_MESSAGE_TOO_BIG',\n",
       " 'WS_1010_MANDATORY_EXT',\n",
       " 'WS_1011_INTERNAL_ERROR',\n",
       " 'WS_1012_SERVICE_RESTART',\n",
       " 'WS_1013_TRY_AGAIN_LATER',\n",
       " 'WS_1014_BAD_GATEWAY',\n",
       " 'WS_1015_TLS_HANDSHAKE',\n",
       " '__builtins__',\n",
       " '__cached__',\n",
       " '__doc__',\n",
       " '__file__',\n",
       " '__loader__',\n",
       " '__name__',\n",
       " '__package__',\n",
       " '__spec__']"
      ]
     },
     "execution_count": 7,
     "metadata": {},
     "output_type": "execute_result"
    }
   ],
   "source": [
    "dir(status)"
   ]
  },
  {
   "cell_type": "code",
   "execution_count": null,
   "id": "fd7f77af",
   "metadata": {},
   "outputs": [],
   "source": []
  }
 ],
 "metadata": {
  "kernelspec": {
   "display_name": "Python 3 (ipykernel)",
   "language": "python",
   "name": "python3"
  },
  "language_info": {
   "codemirror_mode": {
    "name": "ipython",
    "version": 3
   },
   "file_extension": ".py",
   "mimetype": "text/x-python",
   "name": "python",
   "nbconvert_exporter": "python",
   "pygments_lexer": "ipython3",
   "version": "3.8.0"
  }
 },
 "nbformat": 4,
 "nbformat_minor": 5
}
