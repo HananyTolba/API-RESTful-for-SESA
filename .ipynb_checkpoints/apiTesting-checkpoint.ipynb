{
 "cells": [
  {
   "cell_type": "code",
   "execution_count": 76,
   "id": "3d9ae041",
   "metadata": {},
   "outputs": [],
   "source": [
    "import json\n",
    "import requests\n",
    "import pandas as pd\n",
    "import time"
   ]
  },
  {
   "cell_type": "code",
   "execution_count": 77,
   "id": "705d72c2",
   "metadata": {},
   "outputs": [],
   "source": [
    "url = 'http://127.0.0.1:8008/predict'"
   ]
  },
  {
   "cell_type": "code",
   "execution_count": 81,
   "id": "b976e3ba",
   "metadata": {},
   "outputs": [],
   "source": [
    "Request_body = {\n",
    "  \"company\": \"neoen\",\n",
    "  \"horizon\": \"10s\",\n",
    "  \"frequency\": \"10s\"\n",
    "}\n"
   ]
  },
  {
   "cell_type": "code",
   "execution_count": 82,
   "id": "abb113df",
   "metadata": {},
   "outputs": [
    {
     "data": {
      "text/plain": [
       "dict"
      ]
     },
     "execution_count": 82,
     "metadata": {},
     "output_type": "execute_result"
    }
   ],
   "source": [
    "type(response_dict)"
   ]
  },
  {
   "cell_type": "code",
   "execution_count": null,
   "id": "9c25b940",
   "metadata": {},
   "outputs": [
    {
     "name": "stdout",
     "output_type": "stream",
     "text": [
      "{'company': 'neoen', 'horizon': '10s', 'frequency': '10s', 'forecast': {'11/08/2021 17:12:43': {'Prediction': 512.882826904604, 'Upper bound': 688.2422044115865, 'Lower bound': 337.52344939762156}}}\n",
      "{'company': 'neoen', 'horizon': '10s', 'frequency': '10s', 'forecast': {'11/08/2021 17:12:48': {'Prediction': 512.9384797507801, 'Upper bound': 688.2978689882378, 'Lower bound': 337.5790905133223}}}\n",
      "{'company': 'neoen', 'horizon': '10s', 'frequency': '10s', 'forecast': {'11/08/2021 17:12:53': {'Prediction': 512.9939424876168, 'Upper bound': 688.3533436143439, 'Lower bound': 337.6345413608897}}}\n",
      "{'company': 'neoen', 'horizon': '10s', 'frequency': '10s', 'forecast': {'11/08/2021 17:12:58': {'Prediction': 513.0492765420139, 'Upper bound': 688.4086897285529, 'Lower bound': 337.68986335547487}}}\n",
      "{'company': 'neoen', 'horizon': '10s', 'frequency': '10s', 'forecast': {'11/08/2021 17:13:03': {'Prediction': 513.1045433358742, 'Upper bound': 688.4639687657517, 'Lower bound': 337.7451179059966}}}\n",
      "{'company': 'neoen', 'horizon': '10s', 'frequency': '10s', 'forecast': {'11/08/2021 17:13:08': {'Prediction': 513.1596057274858, 'Upper bound': 688.5190435525242, 'Lower bound': 337.8001679024473}}}\n"
     ]
    }
   ],
   "source": [
    "while True:\n",
    "    try:\n",
    "        response = requests.post(url, data = json.dumps(Request_body))\n",
    "        response_dict = json.loads(response.text)\n",
    "        result = pd.DataFrame.from_dict(response_dict[\"forecast\"], orient='index')\n",
    "        # print(result.tail(1))\n",
    "        print(response_dict)\n",
    "        time.sleep(5)\n",
    "    except KeyboardInterrupt:\n",
    "        break\n",
    "    "
   ]
  },
  {
   "cell_type": "code",
   "execution_count": null,
   "id": "2a1ab76c",
   "metadata": {},
   "outputs": [],
   "source": []
  },
  {
   "cell_type": "code",
   "execution_count": null,
   "id": "e24e2f7d",
   "metadata": {},
   "outputs": [],
   "source": []
  },
  {
   "cell_type": "code",
   "execution_count": null,
   "id": "3d6097db",
   "metadata": {},
   "outputs": [],
   "source": []
  },
  {
   "cell_type": "code",
   "execution_count": null,
   "id": "6340edc9",
   "metadata": {},
   "outputs": [],
   "source": []
  },
  {
   "cell_type": "code",
   "execution_count": null,
   "id": "2c9fcf0f",
   "metadata": {},
   "outputs": [],
   "source": []
  },
  {
   "cell_type": "code",
   "execution_count": null,
   "id": "f0556610",
   "metadata": {},
   "outputs": [],
   "source": []
  },
  {
   "cell_type": "code",
   "execution_count": null,
   "id": "5a4532a4",
   "metadata": {},
   "outputs": [],
   "source": []
  },
  {
   "cell_type": "code",
   "execution_count": null,
   "id": "446f1752",
   "metadata": {},
   "outputs": [],
   "source": []
  },
  {
   "cell_type": "code",
   "execution_count": null,
   "id": "cb937383",
   "metadata": {},
   "outputs": [],
   "source": []
  },
  {
   "cell_type": "code",
   "execution_count": null,
   "id": "24b8b165",
   "metadata": {},
   "outputs": [],
   "source": []
  },
  {
   "cell_type": "code",
   "execution_count": null,
   "id": "28be84c0",
   "metadata": {},
   "outputs": [],
   "source": []
  },
  {
   "cell_type": "code",
   "execution_count": 74,
   "id": "f8efb443",
   "metadata": {},
   "outputs": [
    {
     "data": {
      "text/plain": [
       "<AxesSubplot:>"
      ]
     },
     "execution_count": 74,
     "metadata": {},
     "output_type": "execute_result"
    },
    {
     "data": {
      "image/png": "[encoded data removed]",
      "text/plain": [
       "<Figure size 864x360 with 1 Axes>"
      ]
     },
     "metadata": {
      "needs_background": "light"
     },
     "output_type": "display_data"
    }
   ],
   "source": [
    "result = pd.DataFrame.from_dict(response_dict[\"forecast\"], orient='index')\n",
    "result.index = result.index.map(pd.to_datetime)\n",
    "result.plot(figsize = (12,5))"
   ]
  },
  {
   "cell_type": "code",
   "execution_count": null,
   "id": "f87b345d",
   "metadata": {},
   "outputs": [],
   "source": []
  }
 ],
 "metadata": {
  "kernelspec": {
   "display_name": "Python 3 (ipykernel)",
   "language": "python",
   "name": "python3"
  },
  "language_info": {
   "codemirror_mode": {
    "name": "ipython",
    "version": 3
   },
   "file_extension": ".py",
   "mimetype": "text/x-python",
   "name": "python",
   "nbconvert_exporter": "python",
   "pygments_lexer": "ipython3",
   "version": "3.8.0"
  }
 },
 "nbformat": 4,
 "nbformat_minor": 5
}
